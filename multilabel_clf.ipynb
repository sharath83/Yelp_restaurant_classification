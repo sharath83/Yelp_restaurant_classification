{
 "cells": [
  {
   "cell_type": "code",
   "execution_count": null,
   "metadata": {
    "collapsed": true
   },
   "outputs": [],
   "source": [
    "import pandas as pd\n",
    "import numpy as np\n",
    "from sklearn.preprocessing import MultiLabelBinarizer\n",
    "from sklearn.multiclass import OneVsRestClassifier\n",
    "from sklearn.cross_validation import train_test_split\n",
    "from sklearn.metrics import f1_score\n",
    "from sklearn import svm\n",
    "import time"
   ]
  },
  {
   "cell_type": "code",
   "execution_count": null,
   "metadata": {
    "collapsed": true
   },
   "outputs": [],
   "source": [
    "from sklearn.ensemble import RandomForestClassifier"
   ]
  },
  {
   "cell_type": "code",
   "execution_count": 86,
   "metadata": {
    "collapsed": true
   },
   "outputs": [],
   "source": [
    "train = pd.read_csv(\"F:\\sharath\\yelpdata\\\\train_data_6.csv\")\n",
    "test = pd.read_csv(\"F:\\sharath\\yelpdata\\\\test_data_6.csv\")"
   ]
  },
  {
   "cell_type": "code",
   "execution_count": 87,
   "metadata": {
    "collapsed": false
   },
   "outputs": [
    {
     "name": "stdout",
     "output_type": "stream",
     "text": [
      "(1996L, 4096L) (1996L, 9L)\n"
     ]
    }
   ],
   "source": [
    "#Create train data for classification\n",
    "X = train.ix[:,\"Features\"]\n",
    "X = map((lambda x: [float(f) for f in x[1:-1].split(\",\")]), X)\n",
    "X = np.array(X)\n",
    "\n",
    "#binarize the labels for one Vs rest classifier fit\n",
    "y = train.ix[:,\"Target\"]\n",
    "y = map((lambda x: [int(i) for i in x[1:-1].split(\",\")]), y)\n",
    "mlb = MultiLabelBinarizer()\n",
    "y = mlb.fit_transform(y)\n",
    "\n",
    "print X.shape, y.shape"
   ]
  },
  {
   "cell_type": "code",
   "execution_count": 88,
   "metadata": {
    "collapsed": false
   },
   "outputs": [
    {
     "name": "stdout",
     "output_type": "stream",
     "text": [
      "(10000L, 4096L)\n"
     ]
    }
   ],
   "source": [
    "#Create test data for prediction\n",
    "X_test = test.ix[:,\"Features\"]\n",
    "X_test = map((lambda x: [float(f) for f in x[1:-1].split(\",\")]), X_test)\n",
    "X_test = np.array(X_test)\n",
    "print X_test.shape"
   ]
  },
  {
   "cell_type": "code",
   "execution_count": null,
   "metadata": {
    "collapsed": false
   },
   "outputs": [],
   "source": [
    "start = time.time()\n",
    "pred = clf.predict(X_test)\n",
    "print(\"time for prediction is %d secs\" %(time.time()-start))"
   ]
  },
  {
   "cell_type": "code",
   "execution_count": 90,
   "metadata": {
    "collapsed": false
   },
   "outputs": [
    {
     "name": "stdout",
     "output_type": "stream",
     "text": [
      "(1596L, 4096L) (1596L, 9L)\n",
      "(400L, 4096L) (400L, 9L)\n",
      "time for fitting a model 404\n",
      "time for prediction 16\n",
      "f1 score 0.725\n"
     ]
    }
   ],
   "source": [
    "tr,ts,ytr,yts = train_test_split(X,y,test_size=0.2)\n",
    "print tr.shape, ytr.shape\n",
    "print ts.shape, yts.shape\n",
    "\n",
    "#Cross validate and check\n",
    "start = time.time()\n",
    "clf = OneVsRestClassifier(svm.SVC(kernel=\"linear\", probability=True))\n",
    "clf.fit(tr,ytr)\n",
    "print(\"time for fitting a model %d\" %(time.time()-start))\n",
    "\n",
    "start = time.time()\n",
    "pred = clf.predict(ts)\n",
    "print(\"time for prediction %d\" %(time.time()-start))\n",
    "#Calculate average f1 score\n",
    "print (\"f1 score %0.3f\" %(f1_score(yts, pred, average=\"micro\")))"
   ]
  },
  {
   "cell_type": "code",
   "execution_count": null,
   "metadata": {
    "collapsed": false
   },
   "outputs": [],
   "source": [
    "start = time.time()\n",
    "pred = clf.predict(X)\n",
    "print(\"time for prediction %d\" %(time.time()-start))"
   ]
  },
  {
   "cell_type": "code",
   "execution_count": null,
   "metadata": {
    "collapsed": false
   },
   "outputs": [],
   "source": [
    "#training on full train data\n",
    "start = time.time()\n",
    "clf = OneVsRestClassifier(svm.SVC(kernel=\"linear\", probability=False))\n",
    "clf.fit(X, y)\n",
    "print(\"time for fitting a model %d\" %(time.time()-start))\n",
    "\n",
    "start = time.time()\n",
    "pred = clf.predict(X_test)\n",
    "print(\"time for prediction %d\" %(time.time()-start))\n",
    "#Calculate average f1 score\n",
    "#f1_score(yts, pred, average=\"micro\")"
   ]
  },
  {
   "cell_type": "code",
   "execution_count": 92,
   "metadata": {
    "collapsed": false
   },
   "outputs": [
    {
     "name": "stderr",
     "output_type": "stream",
     "text": [
      "[Parallel(n_jobs=1)]: Done  49 tasks       | elapsed:    5.0s\n",
      "[Parallel(n_jobs=1)]: Done 199 tasks       | elapsed:   20.6s\n",
      "[Parallel(n_jobs=1)]: Done 300 out of 300 | elapsed:   31.1s finished\n",
      "[Parallel(n_jobs=1)]: Done  49 tasks       | elapsed:    0.0s\n"
     ]
    },
    {
     "name": "stdout",
     "output_type": "stream",
     "text": [
      "f1 score 0.768\n"
     ]
    },
    {
     "name": "stderr",
     "output_type": "stream",
     "text": [
      "[Parallel(n_jobs=1)]: Done 199 tasks       | elapsed:    0.0s\n",
      "[Parallel(n_jobs=1)]: Done 300 out of 300 | elapsed:    0.0s finished\n"
     ]
    }
   ],
   "source": [
    "#random forest\n",
    "#start = time.time()\n",
    "rf = RandomForestClassifier(n_estimators=300, max_depth=500, verbose=1, oob_score=True)\n",
    "rf.fit(tr,ytr)\n",
    "#print(\"time for fitting a model %d secs\" %(time.time()-start))\n",
    "pred = rf.predict(ts)\n",
    "#Calculate average f1 score\n",
    "print (\"f1 score %0.3f\" %(f1_score(yts, pred, average=\"micro\")))"
   ]
  },
  {
   "cell_type": "code",
   "execution_count": null,
   "metadata": {
    "collapsed": false
   },
   "outputs": [],
   "source": [
    "#training on full train data - Random forest\n",
    "start = time.time()\n",
    "rf = RandomForestClassifier(n_estimators=500, max_depth=130, verbose=1, oob_score=True)\n",
    "rf.fit(X,y)\n",
    "print(\"time for fitting a model %d\" %(time.time()-start))\n",
    "\n",
    "start = time.time()\n",
    "pred = rf.predict(X_test)\n",
    "print(\"time for prediction %d\" %(time.time()-start))\n",
    "#Calculate average f1 score\n",
    "#f1_score(yts, pred, average=\"micro\")"
   ]
  },
  {
   "cell_type": "code",
   "execution_count": null,
   "metadata": {
    "collapsed": false
   },
   "outputs": [],
   "source": [
    "y_pred_label = mlb.inverse_transform(pred)\n",
    "y_pred_label[:10]\n",
    "#pred"
   ]
  },
  {
   "cell_type": "code",
   "execution_count": null,
   "metadata": {
    "collapsed": true
   },
   "outputs": [],
   "source": [
    "y_pred_label = mlb.inverse_transform(pred)\n",
    "y_pred_label = [list(label) for label in y_pred_label]\n",
    "y_pred_label = map((lambda x: str(x)[1:-1].replace(\",\", \" \")), y_pred_label)"
   ]
  },
  {
   "cell_type": "code",
   "execution_count": null,
   "metadata": {
    "collapsed": false
   },
   "outputs": [],
   "source": [
    "#prepare file for submission\n",
    "sub = pd.read_csv(\"sample_submission.csv\")\n",
    "sub.ix[:,\"labels\"] = y_pred_label\n",
    "print sub.head()\n",
    "sub.to_csv(\"sub2_bgr_vgg.csv\", index=False)"
   ]
  },
  {
   "cell_type": "code",
   "execution_count": null,
   "metadata": {
    "collapsed": false
   },
   "outputs": [],
   "source": [
    "sub = pd.read_csv(\"sub2_bgr_vgg.csv\")\n",
    "print sub.shape\n",
    "print sub.head()"
   ]
  },
  {
   "cell_type": "code",
   "execution_count": null,
   "metadata": {
    "collapsed": false
   },
   "outputs": [],
   "source": [
    "stats = pd.DataFrame(columns=[\"label\" + str(i) for i in range(9)]+[\"total\"], index = [\"biz_count\",\"ratio%\"])\n",
    "#stats.loc[\"biz_count\"] = np.append(np.sum(t, axis=0), len(pred))\n",
    "stats.ix[0,:] = np.append(np.sum(pred, axis=0), len(pred))\n",
    "stats.ix[1,:] = stats.loc[\"biz_count\"]*100/len(pred)\n",
    "stats"
   ]
  },
  {
   "cell_type": "code",
   "execution_count": null,
   "metadata": {
    "collapsed": false
   },
   "outputs": [],
   "source": [
    "train.head()"
   ]
  },
  {
   "cell_type": "code",
   "execution_count": null,
   "metadata": {
    "collapsed": false
   },
   "outputs": [],
   "source": [
    "sub = pd.read_csv(\"train.csv\")\n",
    "print sub.shape\n",
    "print sub.head()"
   ]
  },
  {
   "cell_type": "code",
   "execution_count": null,
   "metadata": {
    "collapsed": false
   },
   "outputs": [],
   "source": [
    "a = [[1,2,5], [2,4,8], [0,1,8]]\n",
    "a = [i for suba in a for i in suba]\n",
    "set(a)\n",
    "l = [1,5,8]\n",
    "[1 if i in l else 0 for i in [0, 1, 2, 4, 5, 8]]\n",
    "sub[\"labels\"] = \"5 6 8\""
   ]
  },
  {
   "cell_type": "code",
   "execution_count": null,
   "metadata": {
    "collapsed": false
   },
   "outputs": [],
   "source": [
    "y = train.ix[:,\"Target\"]\n",
    "y = map((lambda x: [int(i) for i in x[1:-1].split(\",\")]), y)\n",
    "mlb = MultiLabelBinarizer()\n",
    "y=mlb.fit_transform(y)"
   ]
  },
  {
   "cell_type": "code",
   "execution_count": null,
   "metadata": {
    "collapsed": false
   },
   "outputs": [],
   "source": [
    "t = [5,6,8]\n",
    "t = [t for i in range(len(y))]\n",
    "print len(t)\n",
    "# t = mlb.fit_transform(t)\n",
    "[1 if i in range(9) else 0 for i in t]"
   ]
  },
  {
   "cell_type": "code",
   "execution_count": null,
   "metadata": {
    "collapsed": false
   },
   "outputs": [],
   "source": [
    "t = [0,0,0,0,0,1,1,0,1]\n",
    "t = [t for i in range(10000)]"
   ]
  },
  {
   "cell_type": "code",
   "execution_count": null,
   "metadata": {
    "collapsed": false
   },
   "outputs": [],
   "source": [
    "f1_score(y, np.array(t), average=\"micro\")\n",
    "f1_score(y, pred, average=\"micro\")"
   ]
  },
  {
   "cell_type": "code",
   "execution_count": null,
   "metadata": {
    "collapsed": false
   },
   "outputs": [],
   "source": [
    "sub[\"labels\"] = \"5 6 8\"\n",
    "sub.to_csv(\"naive.csv\", index=False)"
   ]
  },
  {
   "cell_type": "code",
   "execution_count": null,
   "metadata": {
    "collapsed": false
   },
   "outputs": [],
   "source": [
    "import random\n",
    "pic_ids = train.ix[:3,1]\n",
    "if len(pic_ids) > 10:\n",
    "    t = random.sample(range(len(pic_ids)), 10)\n",
    "else:\n",
    "    t = range(len(pic_ids))"
   ]
  },
  {
   "cell_type": "code",
   "execution_count": 53,
   "metadata": {
    "collapsed": false
   },
   "outputs": [
    {
     "data": {
      "text/html": [
       "<div>\n",
       "<table border=\"1\" class=\"dataframe\">\n",
       "  <thead>\n",
       "    <tr style=\"text-align: right;\">\n",
       "      <th></th>\n",
       "      <th>business_id</th>\n",
       "      <th>labels</th>\n",
       "    </tr>\n",
       "  </thead>\n",
       "  <tbody>\n",
       "    <tr>\n",
       "      <th>0</th>\n",
       "      <td>003sg</td>\n",
       "      <td>6</td>\n",
       "    </tr>\n",
       "    <tr>\n",
       "      <th>1</th>\n",
       "      <td>00er5</td>\n",
       "      <td>1  2  5  6  7</td>\n",
       "    </tr>\n",
       "    <tr>\n",
       "      <th>2</th>\n",
       "      <td>00kad</td>\n",
       "      <td>1  2  3  5  6  8</td>\n",
       "    </tr>\n",
       "    <tr>\n",
       "      <th>3</th>\n",
       "      <td>00mc6</td>\n",
       "      <td>3  6  8</td>\n",
       "    </tr>\n",
       "    <tr>\n",
       "      <th>4</th>\n",
       "      <td>00q7x</td>\n",
       "      <td>1  5  6</td>\n",
       "    </tr>\n",
       "  </tbody>\n",
       "</table>\n",
       "</div>"
      ],
      "text/plain": [
       "  business_id            labels\n",
       "0       003sg                 6\n",
       "1       00er5     1  2  5  6  7\n",
       "2       00kad  1  2  3  5  6  8\n",
       "3       00mc6           3  6  8\n",
       "4       00q7x           1  5  6"
      ]
     },
     "execution_count": 53,
     "metadata": {},
     "output_type": "execute_result"
    }
   ],
   "source": [
    "sub = pd.read_csv(\"sub2_bgr_vgg.csv\")\n",
    "sub.head()"
   ]
  },
  {
   "cell_type": "code",
   "execution_count": 54,
   "metadata": {
    "collapsed": false
   },
   "outputs": [],
   "source": [
    "sub1 = sub.copy()\n",
    "sub1[[\"business_id\"]] = test[[\"BusinessId\"]]"
   ]
  },
  {
   "cell_type": "code",
   "execution_count": 57,
   "metadata": {
    "collapsed": false
   },
   "outputs": [],
   "source": [
    "sub1=pd.merge(sub[[\"business_id\"]], sub1, on='business_id')"
   ]
  },
  {
   "cell_type": "code",
   "execution_count": 59,
   "metadata": {
    "collapsed": false
   },
   "outputs": [],
   "source": [
    "sub1.to_csv(\"sub_rgb_vgg34.csv\", index=False)"
   ]
  },
  {
   "cell_type": "code",
   "execution_count": 60,
   "metadata": {
    "collapsed": true
   },
   "outputs": [],
   "source": [
    "from sklearn.cross_validation import KFold"
   ]
  },
  {
   "cell_type": "code",
   "execution_count": 67,
   "metadata": {
    "collapsed": false
   },
   "outputs": [],
   "source": [
    "folds = KFold(100,5,shuffle=True)\n",
    "for ta,v in folds:\n",
    "    v"
   ]
  },
  {
   "cell_type": "code",
   "execution_count": 68,
   "metadata": {
    "collapsed": false
   },
   "outputs": [],
   "source": [
    "from sklearn.ensemble import GradientBoostingClassifier"
   ]
  },
  {
   "cell_type": "code",
   "execution_count": null,
   "metadata": {
    "collapsed": false
   },
   "outputs": [],
   "source": [
    "gbm = GradientBoostingClassifier(n_estimators=500, max_depth=20, learning_rate=0.01, verbose = 1)\n",
    "gbm.fit(tr, ytr)"
   ]
  },
  {
   "cell_type": "code",
   "execution_count": 73,
   "metadata": {
    "collapsed": false
   },
   "outputs": [
    {
     "name": "stdout",
     "output_type": "stream",
     "text": [
      "(0, '\\n', 0.75621890547263693)\n",
      "(1, '\\n', 0.76209048361934473)\n",
      "(2, '\\n', 0.75370018975332065)\n",
      "(3, '\\n', 0.7647928994082841)\n",
      "(4, '\\n', 0.74191063174114025)\n"
     ]
    }
   ],
   "source": [
    "for i in range(5):\n",
    "    t,v,t_y,v_y = train_test_split(tr[:1000,], ytr[:1000,], test_size=0.3)\n",
    "    clf = OneVsRestClassifier(svm.SVC(kernel=\"linear\", probability=True))\n",
    "    clf.fit(t,t_y)\n",
    "    v_p = clf.predict(v)\n",
    "    print(i,\"\\n\", f1_score(v_y,v_p, average=\"micro\"))"
   ]
  },
  {
   "cell_type": "code",
   "execution_count": null,
   "metadata": {
    "collapsed": true
   },
   "outputs": [],
   "source": [
    "a = [1,2,3]\n",
    "b = [2,4,6]"
   ]
  }
 ],
 "metadata": {
  "kernelspec": {
   "display_name": "Python 2",
   "language": "python",
   "name": "python2"
  },
  "language_info": {
   "codemirror_mode": {
    "name": "ipython",
    "version": 2
   },
   "file_extension": ".py",
   "mimetype": "text/x-python",
   "name": "python",
   "nbconvert_exporter": "python",
   "pygments_lexer": "ipython2",
   "version": "2.7.11"
  }
 },
 "nbformat": 4,
 "nbformat_minor": 0
}
